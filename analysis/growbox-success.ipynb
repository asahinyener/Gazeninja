{
 "cells": [
  {
   "cell_type": "code",
   "execution_count": 1,
   "id": "a9c8fd96",
   "metadata": {},
   "outputs": [],
   "source": [
    "# %% 1 IMPORTS & CONFIG\n",
    "import pandas as pd\n",
    "import matplotlib.pyplot as plt\n",
    "import json\n",
    "\n",
    "# Parameters copied from index.html\n",
    "DWELL_MS      = 800          # dwell threshold (ms)\n",
    "GROW_AFTER_MS = 120          # delay before a box starts growing (ms)\n",
    "\n",
    "CSV_FILE      = \"gaze_data (3).csv\"   # input\n",
    "EP_OUT        = \"episodes.csv\"       # output episodes\n",
    "MET_OUT       = \"metrics.json\"       # output metrics\n"
   ]
  },
  {
   "cell_type": "code",
   "execution_count": 7,
   "id": "c2054ebe",
   "metadata": {},
   "outputs": [
    {
     "data": {
      "text/plain": [
       "39.5"
      ]
     },
     "execution_count": 7,
     "metadata": {},
     "output_type": "execute_result"
    }
   ],
   "source": [
    "# %% 2  LOAD DATA & SAMPLING RATE\n",
    "s = (pd.read_csv(CSV_FILE)\n",
    "       .sort_values('timestamp')\n",
    "       .assign(lasthit=lambda d: d['lasthit'].fillna('')))\n",
    "\n",
    "# median inter-sample interval ≈ eye-tracker period\n",
    "SAMPLING_MS = s['timestamp'].diff().median()\n",
    "SAMPLING_MS\n"
   ]
  },
  {
   "cell_type": "code",
   "execution_count": 21,
   "id": "d7df98a7",
   "metadata": {},
   "outputs": [
    {
     "data": {
      "application/vnd.microsoft.datawrangler.viewer.v0+json": {
       "columns": [
        {
         "name": "index",
         "rawType": "int64",
         "type": "integer"
        },
        {
         "name": "id",
         "rawType": "object",
         "type": "string"
        },
        {
         "name": "startTS",
         "rawType": "float64",
         "type": "float"
        },
        {
         "name": "endTS",
         "rawType": "float64",
         "type": "float"
        },
        {
         "name": "duration",
         "rawType": "float64",
         "type": "float"
        },
        {
         "name": "flicker_ms",
         "rawType": "float64",
         "type": "float"
        },
        {
         "name": "grow_on",
         "rawType": "bool",
         "type": "boolean"
        },
        {
         "name": "fired",
         "rawType": "bool",
         "type": "boolean"
        },
        {
         "name": "saved",
         "rawType": "bool",
         "type": "boolean"
        }
       ],
       "ref": "fd1791ad-248e-4879-980d-570becabd55b",
       "rows": [
        [
         "0",
         "lamp",
         "31406.30000001192",
         "32219.20000001788",
         "812.9000000059605",
         "316.0",
         "True",
         "True",
         "True"
        ],
        [
         "1",
         "sofa_game",
         "33521.70000001788",
         "35519.20000001788",
         "1997.5",
         "39.5",
         "True",
         "True",
         "True"
        ],
        [
         "2",
         "phone",
         "35619.90000000596",
         "35894.5",
         "274.59999999403954",
         "79.0",
         "True",
         "False",
         "False"
        ],
        [
         "3",
         "tv",
         "35948.0",
         "35948.0",
         "0.0",
         "0.0",
         "True",
         "False",
         "False"
        ],
        [
         "4",
         "tv",
         "36101.90000000596",
         "36469.40000000596",
         "367.5",
         "39.5",
         "True",
         "False",
         "False"
        ],
        [
         "5",
         "phone",
         "36519.0",
         "38359.10000002384",
         "1840.1000000238419",
         "39.5",
         "True",
         "True",
         "True"
        ],
        [
         "6",
         "sofa_game",
         "38530.70000001788",
         "38624.80000001192",
         "94.09999999403954",
         "0.0",
         "True",
         "False",
         "False"
        ],
        [
         "7",
         "bookshelf",
         "39025.80000001192",
         "41156.5",
         "2130.699999988079",
         "0.0",
         "True",
         "True",
         "False"
        ]
       ],
       "shape": {
        "columns": 8,
        "rows": 8
       }
      },
      "text/html": [
       "<div>\n",
       "<style scoped>\n",
       "    .dataframe tbody tr th:only-of-type {\n",
       "        vertical-align: middle;\n",
       "    }\n",
       "\n",
       "    .dataframe tbody tr th {\n",
       "        vertical-align: top;\n",
       "    }\n",
       "\n",
       "    .dataframe thead th {\n",
       "        text-align: right;\n",
       "    }\n",
       "</style>\n",
       "<table border=\"1\" class=\"dataframe\">\n",
       "  <thead>\n",
       "    <tr style=\"text-align: right;\">\n",
       "      <th></th>\n",
       "      <th>id</th>\n",
       "      <th>startTS</th>\n",
       "      <th>endTS</th>\n",
       "      <th>duration</th>\n",
       "      <th>flicker_ms</th>\n",
       "      <th>grow_on</th>\n",
       "      <th>fired</th>\n",
       "      <th>saved</th>\n",
       "    </tr>\n",
       "  </thead>\n",
       "  <tbody>\n",
       "    <tr>\n",
       "      <th>0</th>\n",
       "      <td>lamp</td>\n",
       "      <td>31406.3</td>\n",
       "      <td>32219.2</td>\n",
       "      <td>812.9</td>\n",
       "      <td>316.0</td>\n",
       "      <td>True</td>\n",
       "      <td>True</td>\n",
       "      <td>True</td>\n",
       "    </tr>\n",
       "    <tr>\n",
       "      <th>1</th>\n",
       "      <td>sofa_game</td>\n",
       "      <td>33521.7</td>\n",
       "      <td>35519.2</td>\n",
       "      <td>1997.5</td>\n",
       "      <td>39.5</td>\n",
       "      <td>True</td>\n",
       "      <td>True</td>\n",
       "      <td>True</td>\n",
       "    </tr>\n",
       "    <tr>\n",
       "      <th>2</th>\n",
       "      <td>phone</td>\n",
       "      <td>35619.9</td>\n",
       "      <td>35894.5</td>\n",
       "      <td>274.6</td>\n",
       "      <td>79.0</td>\n",
       "      <td>True</td>\n",
       "      <td>False</td>\n",
       "      <td>False</td>\n",
       "    </tr>\n",
       "    <tr>\n",
       "      <th>3</th>\n",
       "      <td>tv</td>\n",
       "      <td>35948.0</td>\n",
       "      <td>35948.0</td>\n",
       "      <td>0.0</td>\n",
       "      <td>0.0</td>\n",
       "      <td>True</td>\n",
       "      <td>False</td>\n",
       "      <td>False</td>\n",
       "    </tr>\n",
       "    <tr>\n",
       "      <th>4</th>\n",
       "      <td>tv</td>\n",
       "      <td>36101.9</td>\n",
       "      <td>36469.4</td>\n",
       "      <td>367.5</td>\n",
       "      <td>39.5</td>\n",
       "      <td>True</td>\n",
       "      <td>False</td>\n",
       "      <td>False</td>\n",
       "    </tr>\n",
       "    <tr>\n",
       "      <th>5</th>\n",
       "      <td>phone</td>\n",
       "      <td>36519.0</td>\n",
       "      <td>38359.1</td>\n",
       "      <td>1840.1</td>\n",
       "      <td>39.5</td>\n",
       "      <td>True</td>\n",
       "      <td>True</td>\n",
       "      <td>True</td>\n",
       "    </tr>\n",
       "    <tr>\n",
       "      <th>6</th>\n",
       "      <td>sofa_game</td>\n",
       "      <td>38530.7</td>\n",
       "      <td>38624.8</td>\n",
       "      <td>94.1</td>\n",
       "      <td>0.0</td>\n",
       "      <td>True</td>\n",
       "      <td>False</td>\n",
       "      <td>False</td>\n",
       "    </tr>\n",
       "    <tr>\n",
       "      <th>7</th>\n",
       "      <td>bookshelf</td>\n",
       "      <td>39025.8</td>\n",
       "      <td>41156.5</td>\n",
       "      <td>2130.7</td>\n",
       "      <td>0.0</td>\n",
       "      <td>True</td>\n",
       "      <td>True</td>\n",
       "      <td>False</td>\n",
       "    </tr>\n",
       "  </tbody>\n",
       "</table>\n",
       "</div>"
      ],
      "text/plain": [
       "          id  startTS    endTS  duration  flicker_ms  grow_on  fired  saved\n",
       "0       lamp  31406.3  32219.2     812.9       316.0     True   True   True\n",
       "1  sofa_game  33521.7  35519.2    1997.5        39.5     True   True   True\n",
       "2      phone  35619.9  35894.5     274.6        79.0     True  False  False\n",
       "3         tv  35948.0  35948.0       0.0         0.0     True  False  False\n",
       "4         tv  36101.9  36469.4     367.5        39.5     True  False  False\n",
       "5      phone  36519.0  38359.1    1840.1        39.5     True   True   True\n",
       "6  sofa_game  38530.7  38624.8      94.1         0.0     True  False  False\n",
       "7  bookshelf  39025.8  41156.5    2130.7         0.0     True   True  False"
      ]
     },
     "execution_count": 21,
     "metadata": {},
     "output_type": "execute_result"
    }
   ],
   "source": [
    "# %% 3  DETECT DWELL EPISODES  + FLICKER TIME\n",
    "episodes = []\n",
    "cur_id = ''\n",
    "start_ts = prev_ts = None\n",
    "grow_on = False\n",
    "flicker_frames = 0\n",
    "fired = False\n",
    "\n",
    "for r in s.itertuples():\n",
    "    same = (r.lasthit == cur_id) and r.lasthit != ''\n",
    "    \n",
    "    # -- episode boundary ----------------------------------------------------\n",
    "    if not same:\n",
    "        if cur_id:                       # close the previous episode\n",
    "            duration = prev_ts - start_ts\n",
    "            flicker_ms = flicker_frames * SAMPLING_MS\n",
    "            saved = fired and grow_on and flicker_ms > 0\n",
    "            episodes.append(dict(id=cur_id, startTS=start_ts, endTS=prev_ts,\n",
    "                                 duration=duration, flicker_ms=flicker_ms,\n",
    "                                 grow_on=grow_on, fired=fired, saved=saved))\n",
    "        # open a new one (if we’re on an AOI)\n",
    "        cur_id = r.lasthit\n",
    "        start_ts = r.timestamp\n",
    "        grow_on = 'g' in r.mode\n",
    "        flicker_frames = 0\n",
    "        fired = False\n",
    "    \n",
    "    # -- still inside the episode -------------------------------------------\n",
    "    if cur_id:\n",
    "        dt = r.timestamp - start_ts\n",
    "        \n",
    "        # firing moment: first time dt ≥ DWELL_MS\n",
    "        if not fired and dt >= DWELL_MS:\n",
    "            fired = True\n",
    "        \n",
    "        # count flicker frames: after grow-delay, grow hit but NOT exact hit\n",
    "        if dt >= GROW_AFTER_MS and r.hitGrow == 1 and r.hitExact == 0:\n",
    "            flicker_frames += 1\n",
    "    \n",
    "    prev_ts = r.timestamp\n",
    "\n",
    "# close trailing episode\n",
    "if cur_id:\n",
    "    duration = prev_ts - start_ts\n",
    "    flicker_ms = flicker_frames * SAMPLING_MS\n",
    "    saved = fired and grow_on and flicker_ms > 0\n",
    "    episodes.append(dict(id=cur_id, startTS=start_ts, endTS=prev_ts,\n",
    "                         duration=duration, flicker_ms=flicker_ms,\n",
    "                         grow_on=grow_on, fired=fired, saved=saved))\n",
    "\n",
    "ep = pd.DataFrame(episodes)\n",
    "ep.head(10)\n"
   ]
  },
  {
   "cell_type": "code",
   "execution_count": 27,
   "id": "0b05b57f",
   "metadata": {},
   "outputs": [
    {
     "data": {
      "text/plain": [
       "{'rescues': 3,\n",
       " 'no_rescues': 1,\n",
       " 'unsaved_grow_ms': 184,\n",
       " 'mean_flicker_ms': 131.7}"
      ]
     },
     "execution_count": 27,
     "metadata": {},
     "output_type": "execute_result"
    }
   ],
   "source": [
    "# %% 4  METRICS\n",
    "metrics = {\n",
    "    \"rescues\"           : int(ep['saved'].sum()),\n",
    "    \"no_rescues\"     : int((ep['fired'] & (ep['flicker_ms'].fillna(0) == 0)).sum()),\n",
    "    \"unsaved_grow_ms\"   : int(ep.loc[ep['grow_on'] & ~ep['fired'], 'duration'].mean() or 0),\n",
    "    \"mean_flicker_ms\"   : round(\n",
    "        ep.loc[ep['saved'], 'flicker_ms'].mean() if ep['saved'].any() else 0,\n",
    "        1\n",
    "    )\n",
    "}\n",
    "metrics\n"
   ]
  },
  {
   "cell_type": "code",
   "execution_count": 28,
   "id": "637a5049",
   "metadata": {},
   "outputs": [
    {
     "data": {
      "image/png": "[encoded data removed]",
      "text/plain": [
       "<Figure size 216x216 with 1 Axes>"
      ]
     },
     "metadata": {
      "needs_background": "light"
     },
     "output_type": "display_data"
    }
   ],
   "source": [
    "# %% 5  VISUALISE\n",
    "# %% 5A  VISUALISE — rescues (count)\n",
    "import matplotlib.pyplot as plt\n",
    "\n",
    "plt.figure(figsize=(3,3))\n",
    "plt.bar(['Rescues','No rescues'], [metrics['rescues'],metrics['no_rescues']])\n",
    "plt.ylabel('Count')\n",
    "plt.title('Grow-Box Rescues')\n",
    "plt.tight_layout()\n",
    "plt.show()\n"
   ]
  },
  {
   "cell_type": "code",
   "execution_count": 29,
   "id": "2b273594",
   "metadata": {},
   "outputs": [
    {
     "data": {
      "image/png": "[encoded data removed]",
      "text/plain": [
       "<Figure size 288x216 with 1 Axes>"
      ]
     },
     "metadata": {
      "needs_background": "light"
     },
     "output_type": "display_data"
    }
   ],
   "source": [
    "# %% 5B  VISUALISE — durations (seconds, consistent units)\n",
    "unsaved_sec  = metrics['unsaved_grow_ms'] / 1000      # ms → s\n",
    "flicker_sec  = metrics['mean_flicker_ms'] / 1000      # ms → s\n",
    "\n",
    "plt.figure(figsize=(4,3))\n",
    "plt.bar(['Unsaved grow', 'Mean flicker'],\n",
    "        [unsaved_sec, flicker_sec])\n",
    "plt.ylabel('Seconds')\n",
    "plt.title('Grow-Box Durations')\n",
    "plt.tight_layout()\n",
    "plt.show()"
   ]
  },
  {
   "cell_type": "code",
   "execution_count": 30,
   "id": "8b541605",
   "metadata": {},
   "outputs": [
    {
     "name": "stdout",
     "output_type": "stream",
     "text": [
      "episodes ➜ episodes.csv\n",
      "metrics  ➜ metrics.json\n"
     ]
    }
   ],
   "source": [
    "# %% 6  SAVE OUTPUTS\n",
    "ep.to_csv(EP_OUT, index=False)\n",
    "with open(MET_OUT, 'w') as f: json.dump(metrics, f, indent=2)\n",
    "\n",
    "print(f\"episodes ➜ {EP_OUT}\")\n",
    "print(f\"metrics  ➜ {MET_OUT}\")\n"
   ]
  }
 ],
 "metadata": {
  "kernelspec": {
   "display_name": "Python 3",
   "language": "python",
   "name": "python3"
  },
  "language_info": {
   "codemirror_mode": {
    "name": "ipython",
    "version": 3
   },
   "file_extension": ".py",
   "mimetype": "text/x-python",
   "name": "python",
   "nbconvert_exporter": "python",
   "pygments_lexer": "ipython3",
   "version": "3.9.2"
  }
 },
 "nbformat": 4,
 "nbformat_minor": 5
}
