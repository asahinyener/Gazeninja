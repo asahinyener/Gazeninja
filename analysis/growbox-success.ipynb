{
 "cells": [
  {
   "cell_type": "code",
   "execution_count": 19,
   "id": "a9c8fd96",
   "metadata": {},
   "outputs": [],
   "source": [
    "# %% 1 IMPORTS & CONFIG\n",
    "import pandas as pd\n",
    "import matplotlib.pyplot as plt\n",
    "import json\n",
    "import numpy as np\n",
    "\n",
    "# Parameters copied from index.html\n",
    "DWELL_MS      = 800          # dwell threshold (ms)\n",
    "GROW_AFTER_MS = 120          # delay before a box starts growing (ms)\n",
    "\n",
    "CSV_FILE      = \"gaze_data_all_users_long.csv\"   # input\n",
    "EP_OUT        = \"episodes.csv\"       # output episodes\n",
    "MET_OUT       = \"metrics.json\"       # output metrics\n"
   ]
  },
  {
   "cell_type": "code",
   "execution_count": 20,
   "id": "c2054ebe",
   "metadata": {},
   "outputs": [
    {
     "data": {
      "text/plain": [
       "np.float64(51.700000047683716)"
      ]
     },
     "execution_count": 20,
     "metadata": {},
     "output_type": "execute_result"
    }
   ],
   "source": [
    "# %% 2  LOAD DATA & SAMPLING RATE\n",
    "s = (pd.read_csv(CSV_FILE)\n",
    "       # .sort_values('timestamp')\n",
    "       .assign(lasthit=lambda d: d['lasthit'].fillna('')))\n",
    "\n",
    "# seperate to seperate dataframes for each user\n",
    "users = s['user'].unique()\n",
    "user_dfs = {user: s[s['user'] == user].reset_index(drop=True) for user in users}\n",
    "# sort each user's data by timestamp\n",
    "for user, df in user_dfs.items():\n",
    "    user_dfs[user] = df.sort_values(by='timestamp').reset_index(drop=True)\n",
    "\n",
    "# median inter-sample interval ≈ eye-tracker period\n",
    "user_sampling_ms = {\n",
    "       user: df['timestamp'].diff().median() for user, df in user_dfs.items()\n",
    "}\n",
    "user_metrics = {user: None for user in users}\n",
    "\n",
    "SAMPLING_MS = s['timestamp'].diff().median()\n",
    "SAMPLING_MS\n"
   ]
  },
  {
   "cell_type": "code",
   "execution_count": 21,
   "id": "d7df98a7",
   "metadata": {},
   "outputs": [
    {
     "name": "stdout",
     "output_type": "stream",
     "text": [
      "episodes ➜ episodes.csv\n",
      "metrics  ➜ metrics.json\n",
      "episodes ➜ episodes.csv\n",
      "metrics  ➜ metrics.json\n",
      "episodes ➜ episodes.csv\n",
      "metrics  ➜ metrics.json\n",
      "episodes ➜ episodes.csv\n",
      "metrics  ➜ metrics.json\n",
      "episodes ➜ episodes.csv\n",
      "metrics  ➜ metrics.json\n",
      "episodes ➜ episodes.csv\n",
      "metrics  ➜ metrics.json\n",
      "episodes ➜ episodes.csv\n",
      "metrics  ➜ metrics.json\n",
      "episodes ➜ episodes.csv\n",
      "metrics  ➜ metrics.json\n"
     ]
    }
   ],
   "source": [
    "# %% 3  DETECT DWELL EPISODES  + FLICKER TIME\n",
    "for user, s in user_dfs.items():\n",
    "    episodes = []\n",
    "    cur_id = ''\n",
    "    start_ts = prev_ts = None\n",
    "    grow_on = False\n",
    "    flicker_frames = 0\n",
    "    fired = False\n",
    "\n",
    "    for r in s.itertuples():\n",
    "        same = (r.lasthit == cur_id) and r.lasthit != ''\n",
    "        \n",
    "        # -- episode boundary ----------------------------------------------------\n",
    "        if not same:\n",
    "            if cur_id:                       # close the previous episode\n",
    "                duration = prev_ts - start_ts\n",
    "                flicker_ms = flicker_frames * user_sampling_ms[user]\n",
    "                saved = fired  and flicker_ms > 0\n",
    "                episodes.append(dict(id=cur_id, startTS=start_ts, endTS=prev_ts,\n",
    "                                    duration=duration, flicker_ms=flicker_ms,\n",
    "                                    grow_on=grow_on, fired=fired, saved=saved))\n",
    "            # open a new one (if we’re on an AOI)\n",
    "            cur_id = r.lasthit\n",
    "            start_ts = r.timestamp\n",
    "            grow_on = 'g' in r.mode\n",
    "            flicker_frames = 0\n",
    "            fired = False\n",
    "        \n",
    "        # -- still inside the episode -------------------------------------------\n",
    "        if cur_id:\n",
    "            dt = r.timestamp - start_ts\n",
    "            \n",
    "            # firing moment: first time dt ≥ DWELL_MS\n",
    "            if not fired and dt >= DWELL_MS:\n",
    "                fired = True\n",
    "            \n",
    "            # count flicker frames: after grow-delay, grow hit but NOT exact hit\n",
    "            if dt >= GROW_AFTER_MS and r.hitGrow == 1 and r.hitExact == 0:\n",
    "                flicker_frames += 1\n",
    "        \n",
    "        prev_ts = r.timestamp\n",
    "\n",
    "    # close trailing episode\n",
    "    if cur_id:\n",
    "        duration = prev_ts - start_ts\n",
    "        flicker_ms = flicker_frames * SAMPLING_MS\n",
    "        saved = fired and grow_on and flicker_ms > 0\n",
    "        episodes.append(dict(id=cur_id, startTS=start_ts, endTS=prev_ts,\n",
    "                            duration=duration, flicker_ms=flicker_ms,\n",
    "                            grow_on=grow_on, fired=fired, saved=saved))\n",
    "\n",
    "    ep = pd.DataFrame(episodes)\n",
    "    ep.head(50)\n",
    "    ep['duration'] = pd.to_numeric(ep['duration'], errors='coerce').fillna(0)\n",
    "    \n",
    "    mask_unsaved = ep['grow_on'] & ~ep['fired']\n",
    "    user_metrics[user] = {\n",
    "    \"rescues\"           : int(ep['saved'].sum()),\n",
    "    \"no_rescues\"     : int((ep['fired'] & (ep['flicker_ms'].fillna(0) == 0)).sum()),\n",
    "     \"unsaved_grow_ms\"   :#int(ep.loc[ep['grow_on'] & ~ep['fired'], 'duration'].mean() or 0),\n",
    "    int(np.nan_to_num(ep.loc[mask_unsaved, 'duration'].mean(), nan=0.0)),\n",
    "    \"mean_flicker_ms\"   : round(\n",
    "        ep.loc[ep['saved'], 'flicker_ms'].mean() if ep['saved'].any() else 0,\n",
    "        1\n",
    "    )\n",
    "    }\n",
    "    #user graphs\n",
    "    plt.figure(figsize=(3,3))\n",
    "    plt.bar(['Rescues','No rescues'], [user_metrics[user]['rescues'],user_metrics[user]['no_rescues']])\n",
    "    plt.ylabel('Count')\n",
    "    plt.title('Grow-Box Rescues')\n",
    "    plt.tight_layout()\n",
    "    plt.savefig(f\"{user}_rescues.png\")\n",
    "    plt.close()\n",
    "    unsaved_sec  = user_metrics[user]['unsaved_grow_ms'] / 1000      # ms → s\n",
    "    flicker_sec  = user_metrics[user]['mean_flicker_ms'] / 1000      # ms → s\n",
    "\n",
    "    plt.figure(figsize=(4,3))\n",
    "    plt.bar(['Unsaved grow', 'Mean flicker'],\n",
    "            [unsaved_sec, flicker_sec])\n",
    "    plt.ylabel('Seconds')\n",
    "    plt.title('Grow-Box Durations')\n",
    "    plt.tight_layout()\n",
    "    plt.savefig(f\"{user}_durations.png\")\n",
    "    plt.close()\n",
    "    ep.to_csv(f\"{user}_{EP_OUT}\", index=False)\n",
    "    with open(f\"{user}_{MET_OUT}\", 'w') as f: json.dump(user_metrics[user], f, indent=2)\n",
    "\n",
    "    print(f\"episodes ➜ {EP_OUT}\")\n",
    "    print(f\"metrics  ➜ {MET_OUT}\")\n",
    "\n",
    "    \n"
   ]
  },
  {
   "cell_type": "code",
   "execution_count": 22,
   "id": "0b05b57f",
   "metadata": {},
   "outputs": [
    {
     "ename": "ValueError",
     "evalue": "cannot convert float NaN to integer",
     "output_type": "error",
     "traceback": [
      "\u001b[1;31m---------------------------------------------------------------------------\u001b[0m",
      "\u001b[1;31mValueError\u001b[0m                                Traceback (most recent call last)",
      "Cell \u001b[1;32mIn[22], line 5\u001b[0m\n\u001b[0;32m      1\u001b[0m \u001b[38;5;66;03m# %% 4  METRICS\u001b[39;00m\n\u001b[0;32m      2\u001b[0m metrics \u001b[38;5;241m=\u001b[39m {\n\u001b[0;32m      3\u001b[0m     \u001b[38;5;124m\"\u001b[39m\u001b[38;5;124mrescues\u001b[39m\u001b[38;5;124m\"\u001b[39m           : \u001b[38;5;28mint\u001b[39m(ep[\u001b[38;5;124m'\u001b[39m\u001b[38;5;124msaved\u001b[39m\u001b[38;5;124m'\u001b[39m]\u001b[38;5;241m.\u001b[39msum()),\n\u001b[0;32m      4\u001b[0m     \u001b[38;5;124m\"\u001b[39m\u001b[38;5;124mno_rescues\u001b[39m\u001b[38;5;124m\"\u001b[39m     : \u001b[38;5;28mint\u001b[39m((ep[\u001b[38;5;124m'\u001b[39m\u001b[38;5;124mfired\u001b[39m\u001b[38;5;124m'\u001b[39m] \u001b[38;5;241m&\u001b[39m (ep[\u001b[38;5;124m'\u001b[39m\u001b[38;5;124mflicker_ms\u001b[39m\u001b[38;5;124m'\u001b[39m]\u001b[38;5;241m.\u001b[39mfillna(\u001b[38;5;241m0\u001b[39m) \u001b[38;5;241m==\u001b[39m \u001b[38;5;241m0\u001b[39m))\u001b[38;5;241m.\u001b[39msum()),\n\u001b[1;32m----> 5\u001b[0m     \u001b[38;5;124m\"\u001b[39m\u001b[38;5;124munsaved_grow_ms\u001b[39m\u001b[38;5;124m\"\u001b[39m   : \u001b[38;5;28;43mint\u001b[39;49m\u001b[43m(\u001b[49m\u001b[43mep\u001b[49m\u001b[38;5;241;43m.\u001b[39;49m\u001b[43mloc\u001b[49m\u001b[43m[\u001b[49m\u001b[43mep\u001b[49m\u001b[43m[\u001b[49m\u001b[38;5;124;43m'\u001b[39;49m\u001b[38;5;124;43mgrow_on\u001b[39;49m\u001b[38;5;124;43m'\u001b[39;49m\u001b[43m]\u001b[49m\u001b[43m \u001b[49m\u001b[38;5;241;43m&\u001b[39;49m\u001b[43m \u001b[49m\u001b[38;5;241;43m~\u001b[39;49m\u001b[43mep\u001b[49m\u001b[43m[\u001b[49m\u001b[38;5;124;43m'\u001b[39;49m\u001b[38;5;124;43mfired\u001b[39;49m\u001b[38;5;124;43m'\u001b[39;49m\u001b[43m]\u001b[49m\u001b[43m,\u001b[49m\u001b[43m \u001b[49m\u001b[38;5;124;43m'\u001b[39;49m\u001b[38;5;124;43mduration\u001b[39;49m\u001b[38;5;124;43m'\u001b[39;49m\u001b[43m]\u001b[49m\u001b[38;5;241;43m.\u001b[39;49m\u001b[43mmean\u001b[49m\u001b[43m(\u001b[49m\u001b[43m)\u001b[49m\u001b[43m \u001b[49m\u001b[38;5;129;43;01mor\u001b[39;49;00m\u001b[43m \u001b[49m\u001b[38;5;241;43m0\u001b[39;49m\u001b[43m)\u001b[49m,\n\u001b[0;32m      6\u001b[0m     \u001b[38;5;124m\"\u001b[39m\u001b[38;5;124mmean_flicker_ms\u001b[39m\u001b[38;5;124m\"\u001b[39m   : \u001b[38;5;28mround\u001b[39m(\n\u001b[0;32m      7\u001b[0m         ep\u001b[38;5;241m.\u001b[39mloc[ep[\u001b[38;5;124m'\u001b[39m\u001b[38;5;124msaved\u001b[39m\u001b[38;5;124m'\u001b[39m], \u001b[38;5;124m'\u001b[39m\u001b[38;5;124mflicker_ms\u001b[39m\u001b[38;5;124m'\u001b[39m]\u001b[38;5;241m.\u001b[39mmean() \u001b[38;5;28;01mif\u001b[39;00m ep[\u001b[38;5;124m'\u001b[39m\u001b[38;5;124msaved\u001b[39m\u001b[38;5;124m'\u001b[39m]\u001b[38;5;241m.\u001b[39many() \u001b[38;5;28;01melse\u001b[39;00m \u001b[38;5;241m0\u001b[39m,\n\u001b[0;32m      8\u001b[0m         \u001b[38;5;241m1\u001b[39m\n\u001b[0;32m      9\u001b[0m     )\n\u001b[0;32m     10\u001b[0m }\n\u001b[0;32m     11\u001b[0m metrics\n",
      "\u001b[1;31mValueError\u001b[0m: cannot convert float NaN to integer"
     ]
    }
   ],
   "source": [
    "# %% 4  METRICS\n",
    "metrics = {\n",
    "    \"rescues\"           : int(ep['saved'].sum()),\n",
    "    \"no_rescues\"     : int((ep['fired'] & (ep['flicker_ms'].fillna(0) == 0)).sum()),\n",
    "    \"unsaved_grow_ms\"   : int(ep.loc[ep['grow_on'] & ~ep['fired'], 'duration'].mean() or 0),\n",
    "    \"mean_flicker_ms\"   : round(\n",
    "        ep.loc[ep['saved'], 'flicker_ms'].mean() if ep['saved'].any() else 0,\n",
    "        1\n",
    "    )\n",
    "}\n",
    "metrics\n"
   ]
  },
  {
   "cell_type": "code",
   "execution_count": null,
   "id": "637a5049",
   "metadata": {},
   "outputs": [
    {
     "data": {
      "image/png": "[encoded data removed]",
      "text/plain": [
       "<Figure size 300x300 with 1 Axes>"
      ]
     },
     "metadata": {},
     "output_type": "display_data"
    }
   ],
   "source": [
    "# %% 5  VISUALISE\n",
    "# %% 5A  VISUALISE — rescues (count)\n",
    "import matplotlib.pyplot as plt\n",
    "\n",
    "plt.figure(figsize=(3,3))\n",
    "plt.bar(['Rescues','No rescues'], [metrics['rescues'],metrics['no_rescues']])\n",
    "plt.ylabel('Count')\n",
    "plt.title('Grow-Box Rescues')\n",
    "plt.tight_layout()\n",
    "plt.show()\n"
   ]
  },
  {
   "cell_type": "code",
   "execution_count": null,
   "id": "2b273594",
   "metadata": {},
   "outputs": [
    {
     "data": {
      "image/png": "[encoded data removed]",
      "text/plain": [
       "<Figure size 288x216 with 1 Axes>"
      ]
     },
     "metadata": {
      "needs_background": "light"
     },
     "output_type": "display_data"
    }
   ],
   "source": [
    "# %% 5B  VISUALISE — durations (seconds, consistent units)\n",
    "unsaved_sec  = metrics['unsaved_grow_ms'] / 1000      # ms → s\n",
    "flicker_sec  = metrics['mean_flicker_ms'] / 1000      # ms → s\n",
    "\n",
    "plt.figure(figsize=(4,3))\n",
    "plt.bar(['Unsaved grow', 'Mean flicker'],\n",
    "        [unsaved_sec, flicker_sec])\n",
    "plt.ylabel('Seconds')\n",
    "plt.title('Grow-Box Durations')\n",
    "plt.tight_layout()\n",
    "plt.show()"
   ]
  },
  {
   "cell_type": "code",
   "execution_count": null,
   "id": "8b541605",
   "metadata": {},
   "outputs": [
    {
     "name": "stdout",
     "output_type": "stream",
     "text": [
      "episodes ➜ episodes.csv\n",
      "metrics  ➜ metrics.json\n"
     ]
    }
   ],
   "source": [
    "# %% 6  SAVE OUTPUTS\n",
    "ep.to_csv(EP_OUT, index=False)\n",
    "with open(MET_OUT, 'w') as f: json.dump(metrics, f, indent=2)\n",
    "\n",
    "print(f\"episodes ➜ {EP_OUT}\")\n",
    "print(f\"metrics  ➜ {MET_OUT}\")\n"
   ]
  }
 ],
 "metadata": {
  "kernelspec": {
   "display_name": "Python 3",
   "language": "python",
   "name": "python3"
  },
  "language_info": {
   "codemirror_mode": {
    "name": "ipython",
    "version": 3
   },
   "file_extension": ".py",
   "mimetype": "text/x-python",
   "name": "python",
   "nbconvert_exporter": "python",
   "pygments_lexer": "ipython3",
   "version": "3.13.0"
  }
 },
 "nbformat": 4,
 "nbformat_minor": 5
}
